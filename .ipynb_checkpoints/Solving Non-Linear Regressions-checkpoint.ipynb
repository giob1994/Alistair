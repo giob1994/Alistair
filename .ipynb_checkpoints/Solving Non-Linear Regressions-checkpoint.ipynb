{
 "cells": [
  {
   "cell_type": "markdown",
   "metadata": {},
   "source": [
    "# Solving Non-Linear Regressions"
   ]
  },
  {
   "cell_type": "code",
   "execution_count": 1,
   "metadata": {},
   "outputs": [
    {
     "data": {
      "text/plain": [
       "5×1 Array{Float64,2}:\n",
       " 1.88661\n",
       " 2.23194\n",
       " 1.3829 \n",
       " 1.6339 \n",
       " 1.55081"
      ]
     },
     "execution_count": 1,
     "metadata": {},
     "output_type": "execute_result"
    }
   ],
   "source": [
    "t = 5;\n",
    "\n",
    "_beta_ = [0.2, 0.4, 0.1];\n",
    "X = [ones(t, 1) [2; 3; 1; 1.2; 1;] [5; 5.3; 3.7; 10; 11;]] \n",
    "\n",
    "link(beta_, X_) = exp.(beta_[1]*X_[:,1] + beta_[2]*log.(X_[:,2]) + beta_[3]*log.(X_[:,3]))\n",
    "\n",
    "Y = link(_beta_, X) + 0.01*randn(t, 1)"
   ]
  },
  {
   "cell_type": "code",
   "execution_count": 5,
   "metadata": {},
   "outputs": [
    {
     "data": {
      "text/plain": [
       "0.19034497791699556"
      ]
     },
     "execution_count": 5,
     "metadata": {},
     "output_type": "execute_result"
    }
   ],
   "source": [
    "f(beta) = sum((Y - link(beta, X)).^2)\n",
    "\n",
    "f([0.3 0.4 0.1])"
   ]
  },
  {
   "cell_type": "code",
   "execution_count": 3,
   "metadata": {},
   "outputs": [
    {
     "name": "stdout",
     "output_type": "stream",
     "text": [
      "Optim.MultivariateOptimizationResults{Optim.NewtonTrustRegion{Float64},Float64,Array{Float64,1},Float64,Float64,Array{Optim.OptimizationState{Float64,Optim.NewtonTrustRegion{Float64}},1}}\n"
     ]
    },
    {
     "data": {
      "text/plain": [
       "3-element Array{Float64,1}:\n",
       " 0.195105 \n",
       " 0.402488 \n",
       " 0.0992335"
      ]
     },
     "execution_count": 3,
     "metadata": {},
     "output_type": "execute_result"
    }
   ],
   "source": [
    "using Optim\n",
    "\n",
    "beta0 = [1, 0.3, 3];\n",
    "res = optimize(f, beta0, NewtonTrustRegion())\n",
    "println(typeof(res))\n",
    "\n",
    "beta_optim = Optim.minimizer(res)"
   ]
  },
  {
   "cell_type": "code",
   "execution_count": 59,
   "metadata": {},
   "outputs": [
    {
     "data": {
      "text/plain": [
       "0.00036708687586464137"
      ]
     },
     "execution_count": 59,
     "metadata": {},
     "output_type": "execute_result"
    }
   ],
   "source": [
    "f(beta_optim)"
   ]
  },
  {
   "cell_type": "code",
   "execution_count": 70,
   "metadata": {},
   "outputs": [
    {
     "data": {
      "text/plain": [
       "Optim.NewtonTrustRegion{Float64}"
      ]
     },
     "execution_count": 70,
     "metadata": {},
     "output_type": "execute_result"
    }
   ],
   "source": [
    "typeof"
   ]
  },
  {
   "cell_type": "code",
   "execution_count": 77,
   "metadata": {},
   "outputs": [
    {
     "data": {
      "text/plain": [
       "5×1 Array{Float64,2}:\n",
       " 1.94717\n",
       " 1.7917 \n",
       " 1.98078\n",
       " 1.99678\n",
       " 2.0    "
      ]
     },
     "execution_count": 77,
     "metadata": {},
     "output_type": "execute_result"
    }
   ],
   "source": [
    "f(x, y) = x + sin(y)\n",
    "\n",
    "f.(X[:,1], Y)"
   ]
  },
  {
   "cell_type": "code",
   "execution_count": 178,
   "metadata": {},
   "outputs": [
    {
     "data": {
      "text/plain": [
       "Alistair.fitresult([0.19503, 0.393545, 0.103305], [5.23692e-5; 1.12086e-5; … ; 1.77895e-5; 1.05685e-5], 0.00010135574098469252, true)"
      ]
     },
     "execution_count": 178,
     "metadata": {},
     "output_type": "execute_result"
    }
   ],
   "source": [
    "#include(\"Alistair.jl\")\n",
    "\n",
    "f(X_, beta_) = exp.(beta_[1]*X_[:,1] + beta_[2]*log.(X_[:,2]) + beta_[3]*log.(X_[:,3]))\n",
    "\n",
    "f(X[1:2,:], beta0)\n",
    "\n",
    "o = Alistair.nlinfit(f, X, Y, beta0)"
   ]
  },
  {
   "cell_type": "code",
   "execution_count": 18,
   "metadata": {},
   "outputs": [
    {
     "ename": "LoadError",
     "evalue": "LoadError: \u001b[91mcannot declare OLS constant; it already has a value\u001b[39m\nwhile loading /Users/giovannib/Documents/GitHub/Alistair/src/types.jl, in expression starting on line 20",
     "output_type": "error",
     "traceback": [
      "LoadError: \u001b[91mcannot declare OLS constant; it already has a value\u001b[39m\nwhile loading /Users/giovannib/Documents/GitHub/Alistair/src/types.jl, in expression starting on line 20",
      "",
      "Stacktrace:",
      " [1] \u001b[1minclude_from_node1\u001b[22m\u001b[22m\u001b[1m(\u001b[22m\u001b[22m::String\u001b[1m)\u001b[22m\u001b[22m at \u001b[1m./loading.jl:576\u001b[22m\u001b[22m",
      " [2] \u001b[1minclude\u001b[22m\u001b[22m\u001b[1m(\u001b[22m\u001b[22m::String\u001b[1m)\u001b[22m\u001b[22m at \u001b[1m./sysimg.jl:14\u001b[22m\u001b[22m",
      " [3] \u001b[1minclude_string\u001b[22m\u001b[22m\u001b[1m(\u001b[22m\u001b[22m::String, ::String\u001b[1m)\u001b[22m\u001b[22m at \u001b[1m./loading.jl:522\u001b[22m\u001b[22m"
     ]
    }
   ],
   "source": [
    "using Compat, DataFrames, StatsBase\n",
    "using Compat.Test\n",
    "using GLM\n",
    "include(\"types.jl\")\n",
    "include(\"linregress.jl\")\n",
    "include(\"mixfunctions.jl\")\n",
    "include(\"genericregress.jl\")\n",
    "\n",
    "const TEST_SIZE_1 = 10\n",
    "\n",
    "beta = [0.7; 0.45]\n",
    "X = hcat(ones(TEST_SIZE_1,1), collect(1.0:TEST_SIZE_1))\n",
    "Y = X * beta + 0.1*randn(TEST_SIZE_1, 1)\n",
    "\n",
    "@time data = DataFrame(X1=X[:,2], Y1=Y[:])\n",
    "@time OLS_result = glm(@formula(Y1 ~ X1), data, Normal(), IdentityLink())\n",
    "\n",
    "@time OLSRegression = OLS(intercept=true, robust=false)\n",
    "@time result = linregress(X, Y, OLSRegression)\n",
    "\n",
    "#x = @formula(Y ~ X)\n",
    "#println(dump(x))\n",
    "#methodswith(typeof(x))"
   ]
  },
  {
   "cell_type": "code",
   "execution_count": 136,
   "metadata": {},
   "outputs": [
    {
     "data": {
      "text/plain": [
       ":(X[1])"
      ]
     },
     "execution_count": 136,
     "metadata": {},
     "output_type": "execute_result"
    }
   ],
   "source": [
    "#_log = x.rhs.args[3].args[1]\n",
    "x.rhs.args[3].args[2]"
   ]
  },
  {
   "cell_type": "code",
   "execution_count": 129,
   "metadata": {},
   "outputs": [
    {
     "name": "stdout",
     "output_type": "stream",
     "text": [
      "+\n",
      "  ( log\n",
      "  ( X\n",
      " )\n",
      " )\n",
      "  ( X\n",
      " )\n"
     ]
    }
   ],
   "source": [
    "function p(exp)\n",
    "    for arg in exp.args\n",
    "        if typeof(arg) == Expr\n",
    "            print(\"  ( \") \n",
    "            p(arg)\n",
    "            println(\" )\")\n",
    "        elseif typeof(arg) == Symbol\n",
    "            println(arg)\n",
    "        end\n",
    "    end\n",
    "end\n",
    "\n",
    "p(x.rhs)"
   ]
  },
  {
   "cell_type": "code",
   "execution_count": 97,
   "metadata": {},
   "outputs": [
    {
     "ename": "LoadError",
     "evalue": "\u001b[91mtype Symbol has no field rhs\u001b[39m",
     "output_type": "error",
     "traceback": [
      "\u001b[91mtype Symbol has no field rhs\u001b[39m",
      "",
      "Stacktrace:",
      " [1] \u001b[1minclude_string\u001b[22m\u001b[22m\u001b[1m(\u001b[22m\u001b[22m::String, ::String\u001b[1m)\u001b[22m\u001b[22m at \u001b[1m./loading.jl:522\u001b[22m\u001b[22m"
     ]
    }
   ],
   "source": []
  },
  {
   "cell_type": "code",
   "execution_count": 50,
   "metadata": {},
   "outputs": [
    {
     "ename": "LoadError",
     "evalue": "\u001b[91mMethodError: no method matching start(::Expr)\u001b[0m\nClosest candidates are:\n  start(\u001b[91m::SimpleVector\u001b[39m) at essentials.jl:258\n  start(\u001b[91m::Base.MethodList\u001b[39m) at reflection.jl:560\n  start(\u001b[91m::ExponentialBackOff\u001b[39m) at error.jl:107\n  ...\u001b[39m",
     "output_type": "error",
     "traceback": [
      "\u001b[91mMethodError: no method matching start(::Expr)\u001b[0m\nClosest candidates are:\n  start(\u001b[91m::SimpleVector\u001b[39m) at essentials.jl:258\n  start(\u001b[91m::Base.MethodList\u001b[39m) at reflection.jl:560\n  start(\u001b[91m::ExponentialBackOff\u001b[39m) at error.jl:107\n  ...\u001b[39m",
      "",
      "Stacktrace:",
      " [1] \u001b[1munion!\u001b[22m\u001b[22m\u001b[1m(\u001b[22m\u001b[22m::Set{Any}, ::Expr\u001b[1m)\u001b[22m\u001b[22m at \u001b[1m./set.jl:63\u001b[22m\u001b[22m",
      " [2] \u001b[1mSet\u001b[22m\u001b[22m\u001b[1m(\u001b[22m\u001b[22m::Expr\u001b[1m)\u001b[22m\u001b[22m at \u001b[1m./set.jl:10\u001b[22m\u001b[22m",
      " [3] \u001b[1mcollect_to!\u001b[22m\u001b[22m\u001b[1m(\u001b[22m\u001b[22m::Array{Set{Any},1}, ::Base.Generator{Array{Any,1},Type{Set}}, ::Int64, ::Int64\u001b[1m)\u001b[22m\u001b[22m at \u001b[1m./array.jl:508\u001b[22m\u001b[22m",
      " [4] \u001b[1mcollect\u001b[22m\u001b[22m\u001b[1m(\u001b[22m\u001b[22m::Base.Generator{Array{Any,1},Type{Set}}\u001b[1m)\u001b[22m\u001b[22m at \u001b[1m./array.jl:476\u001b[22m\u001b[22m",
      " [5] \u001b[1mDataFrames.Terms\u001b[22m\u001b[22m\u001b[1m(\u001b[22m\u001b[22m::DataFrames.Formula\u001b[1m)\u001b[22m\u001b[22m at \u001b[1m/Users/giovannib/.julia/v0.6/DataFrames/src/statsmodels/formula.jl:227\u001b[22m\u001b[22m",
      " [6] \u001b[1minclude_string\u001b[22m\u001b[22m\u001b[1m(\u001b[22m\u001b[22m::String, ::String\u001b[1m)\u001b[22m\u001b[22m at \u001b[1m./loading.jl:522\u001b[22m\u001b[22m"
     ]
    }
   ],
   "source": [
    "DataFrames.Terms(x)"
   ]
  },
  {
   "cell_type": "code",
   "execution_count": null,
   "metadata": {},
   "outputs": [],
   "source": []
  }
 ],
 "metadata": {
  "kernelspec": {
   "display_name": "Julia 0.6.1",
   "language": "julia",
   "name": "julia-0.6"
  },
  "language_info": {
   "file_extension": ".jl",
   "mimetype": "application/julia",
   "name": "julia",
   "version": "0.6.2"
  }
 },
 "nbformat": 4,
 "nbformat_minor": 2
}
